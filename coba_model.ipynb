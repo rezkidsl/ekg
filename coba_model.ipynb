{
 "cells": [
  {
   "cell_type": "code",
   "execution_count": 1,
   "metadata": {},
   "outputs": [],
   "source": [
    "from os import listdir\n",
    "\n",
    "from os.path import isfile, join\n",
    "mypath = 'Dataset/Data TEST/ALL_DATA'\n",
    "onlyfiles = [f for f in listdir(mypath) if isfile(join(mypath, f))]"
   ]
  },
  {
   "cell_type": "code",
   "execution_count": 2,
   "metadata": {},
   "outputs": [],
   "source": [
    "import pandas as pd\n",
    "\n",
    "dataku = pd.read_csv(f'Dataset/Data TEST/ALL_DATA/{onlyfiles[0]}')"
   ]
  },
  {
   "attachments": {},
   "cell_type": "markdown",
   "metadata": {},
   "source": [
    "### berdasarkan index"
   ]
  },
  {
   "cell_type": "code",
   "execution_count": 20,
   "metadata": {},
   "outputs": [
    {
     "data": {
      "text/plain": [
       "['AF_202']"
      ]
     },
     "execution_count": 20,
     "metadata": {},
     "output_type": "execute_result"
    }
   ],
   "source": [
    "# data_coba = [onlyfiles[1]]\n",
    "# data_coba = [i.split('.')[0] for i in data_coba]\n",
    "# data_coba"
   ]
  },
  {
   "attachments": {},
   "cell_type": "markdown",
   "metadata": {},
   "source": [
    "### berdasarkan nama"
   ]
  },
  {
   "cell_type": "code",
   "execution_count": 22,
   "metadata": {},
   "outputs": [],
   "source": [
    "data_coba = ['NORMAL_05261-12.csv']\n",
    "data_coba = [i.split('.')[0] for i in data_coba]"
   ]
  },
  {
   "cell_type": "code",
   "execution_count": 23,
   "metadata": {},
   "outputs": [
    {
     "name": "stdout",
     "output_type": "stream",
     "text": [
      "NORMAL_05261-12\n"
     ]
    }
   ],
   "source": [
    "import AFStart\n",
    "\n",
    "extraction_all = []\n",
    "for i in data_coba:\n",
    "    hasil_ekstraksi = AFStart.test_program([i], 1)\n",
    "    extraction_all.append(hasil_ekstraksi)"
   ]
  },
  {
   "attachments": {},
   "cell_type": "markdown",
   "metadata": {},
   "source": [
    "### Langsung Esktrak"
   ]
  },
  {
   "cell_type": "code",
   "execution_count": 9,
   "metadata": {},
   "outputs": [],
   "source": [
    "import AFSignalProcessing\n",
    "\n",
    "data_ecg = f'Dataset/Data TEST/ALL_DATA/NORMAL_07910-1.csv'\n",
    "f = open(data_ecg, 'r')\n",
    "lines = f.readlines()\n",
    "f.close()\n",
    "extraction_all = AFSignalProcessing.make_fiture(lines,1)"
   ]
  },
  {
   "cell_type": "code",
   "execution_count": 11,
   "metadata": {},
   "outputs": [
    {
     "data": {
      "text/plain": [
       "{'predict': 'normal'}"
      ]
     },
     "execution_count": 11,
     "metadata": {},
     "output_type": "execute_result"
    }
   ],
   "source": [
    "import requests\n",
    "\n",
    "payload = {\n",
    "    'Lines_ECG': lines,\n",
    "    'Status' : 1\n",
    "}\n",
    "data = requests.post('http://127.0.0.1:8887/predict_ecg', json=payload)\n",
    "data.json()"
   ]
  },
  {
   "cell_type": "code",
   "execution_count": 11,
   "metadata": {},
   "outputs": [
    {
     "name": "stderr",
     "output_type": "stream",
     "text": [
      "c:\\Users\\ASUS\\AppData\\Local\\Programs\\Python\\Python310\\lib\\site-packages\\sklearn\\base.py:409: UserWarning: X does not have valid feature names, but RandomForestClassifier was fitted with feature names\n",
      "  warnings.warn(\n"
     ]
    },
    {
     "data": {
      "text/plain": [
       "{'predict': 'normal'}"
      ]
     },
     "execution_count": 11,
     "metadata": {},
     "output_type": "execute_result"
    }
   ],
   "source": [
    "\n",
    "\n",
    "predict_ecg.predict(lines,1)"
   ]
  },
  {
   "cell_type": "code",
   "execution_count": 32,
   "metadata": {},
   "outputs": [],
   "source": [
    "fitur_n_json = []\n",
    "for x in [extraction_all]:    \n",
    "    dictnya = {}\n",
    "    for i,j in zip(x[0], x[1]):\n",
    "        dictnya[i] = j \n",
    "        dictnya[\"label\"] = data_coba[0].split('_')[0]\n",
    "    fitur_n_json.append(dictnya)"
   ]
  },
  {
   "cell_type": "code",
   "execution_count": 33,
   "metadata": {},
   "outputs": [
    {
     "data": {
      "text/html": [
       "<div>\n",
       "<style scoped>\n",
       "    .dataframe tbody tr th:only-of-type {\n",
       "        vertical-align: middle;\n",
       "    }\n",
       "\n",
       "    .dataframe tbody tr th {\n",
       "        vertical-align: top;\n",
       "    }\n",
       "\n",
       "    .dataframe thead th {\n",
       "        text-align: right;\n",
       "    }\n",
       "</style>\n",
       "<table border=\"1\" class=\"dataframe\">\n",
       "  <thead>\n",
       "    <tr style=\"text-align: right;\">\n",
       "      <th></th>\n",
       "      <th>maxRR</th>\n",
       "      <th>label</th>\n",
       "      <th>minRR</th>\n",
       "      <th>meanRR</th>\n",
       "      <th>stdevRR</th>\n",
       "      <th>maxQRS</th>\n",
       "      <th>minQRS</th>\n",
       "      <th>meanQRS</th>\n",
       "      <th>stdevQRS</th>\n",
       "      <th>maxTP</th>\n",
       "      <th>minTP</th>\n",
       "      <th>meanTP</th>\n",
       "      <th>stdevTP</th>\n",
       "      <th>maxPQ</th>\n",
       "      <th>minPQ</th>\n",
       "      <th>meanPQ</th>\n",
       "      <th>stdevPQ</th>\n",
       "    </tr>\n",
       "  </thead>\n",
       "  <tbody>\n",
       "    <tr>\n",
       "      <th>0</th>\n",
       "      <td>1.404</td>\n",
       "      <td>NORMAL</td>\n",
       "      <td>0.524</td>\n",
       "      <td>0.907576</td>\n",
       "      <td>0.138774</td>\n",
       "      <td>0.104</td>\n",
       "      <td>0.06</td>\n",
       "      <td>0.078364</td>\n",
       "      <td>0.013715</td>\n",
       "      <td>1.004</td>\n",
       "      <td>0</td>\n",
       "      <td>0.491455</td>\n",
       "      <td>0.158231</td>\n",
       "      <td>0.148</td>\n",
       "      <td>0</td>\n",
       "      <td>0.071212</td>\n",
       "      <td>0.021271</td>\n",
       "    </tr>\n",
       "  </tbody>\n",
       "</table>\n",
       "</div>"
      ],
      "text/plain": [
       "   maxRR   label  minRR    meanRR   stdevRR  maxQRS  minQRS   meanQRS  \\\n",
       "0  1.404  NORMAL  0.524  0.907576  0.138774   0.104    0.06  0.078364   \n",
       "\n",
       "   stdevQRS  maxTP  minTP    meanTP   stdevTP  maxPQ  minPQ    meanPQ  \\\n",
       "0  0.013715  1.004      0  0.491455  0.158231  0.148      0  0.071212   \n",
       "\n",
       "    stdevPQ  \n",
       "0  0.021271  "
      ]
     },
     "execution_count": 33,
     "metadata": {},
     "output_type": "execute_result"
    }
   ],
   "source": [
    "import pandas as pd \n",
    "\n",
    "df_test = pd.DataFrame(fitur_n_json)\n",
    "df_test"
   ]
  },
  {
   "cell_type": "code",
   "execution_count": 34,
   "metadata": {},
   "outputs": [],
   "source": [
    "import seaborn as sns\n",
    "import matplotlib.pyplot as plt \n",
    "\n",
    "df_test['label_encode'] = df_test['label'].map({\n",
    "    'Normal': 0,\n",
    "    'AF': 1\n",
    "})\n"
   ]
  },
  {
   "cell_type": "code",
   "execution_count": 35,
   "metadata": {},
   "outputs": [],
   "source": [
    "import pickle\n",
    "loaded_model = pickle.load(open('model_ecg_random_forest.sav', 'rb'))"
   ]
  },
  {
   "cell_type": "code",
   "execution_count": 36,
   "metadata": {},
   "outputs": [
    {
     "data": {
      "text/html": [
       "<div>\n",
       "<style scoped>\n",
       "    .dataframe tbody tr th:only-of-type {\n",
       "        vertical-align: middle;\n",
       "    }\n",
       "\n",
       "    .dataframe tbody tr th {\n",
       "        vertical-align: top;\n",
       "    }\n",
       "\n",
       "    .dataframe thead th {\n",
       "        text-align: right;\n",
       "    }\n",
       "</style>\n",
       "<table border=\"1\" class=\"dataframe\">\n",
       "  <thead>\n",
       "    <tr style=\"text-align: right;\">\n",
       "      <th></th>\n",
       "      <th>maxRR</th>\n",
       "      <th>label</th>\n",
       "      <th>minRR</th>\n",
       "      <th>meanRR</th>\n",
       "      <th>stdevRR</th>\n",
       "      <th>maxQRS</th>\n",
       "      <th>minQRS</th>\n",
       "      <th>meanQRS</th>\n",
       "      <th>stdevQRS</th>\n",
       "      <th>maxTP</th>\n",
       "      <th>minTP</th>\n",
       "      <th>meanTP</th>\n",
       "      <th>stdevTP</th>\n",
       "      <th>maxPQ</th>\n",
       "      <th>minPQ</th>\n",
       "      <th>meanPQ</th>\n",
       "      <th>stdevPQ</th>\n",
       "      <th>label_encode</th>\n",
       "    </tr>\n",
       "  </thead>\n",
       "  <tbody>\n",
       "    <tr>\n",
       "      <th>0</th>\n",
       "      <td>1.404</td>\n",
       "      <td>NORMAL</td>\n",
       "      <td>0.524</td>\n",
       "      <td>0.907576</td>\n",
       "      <td>0.138774</td>\n",
       "      <td>0.104</td>\n",
       "      <td>0.06</td>\n",
       "      <td>0.078364</td>\n",
       "      <td>0.013715</td>\n",
       "      <td>1.004</td>\n",
       "      <td>0</td>\n",
       "      <td>0.491455</td>\n",
       "      <td>0.158231</td>\n",
       "      <td>0.148</td>\n",
       "      <td>0</td>\n",
       "      <td>0.071212</td>\n",
       "      <td>0.021271</td>\n",
       "      <td>NaN</td>\n",
       "    </tr>\n",
       "  </tbody>\n",
       "</table>\n",
       "</div>"
      ],
      "text/plain": [
       "   maxRR   label  minRR    meanRR   stdevRR  maxQRS  minQRS   meanQRS  \\\n",
       "0  1.404  NORMAL  0.524  0.907576  0.138774   0.104    0.06  0.078364   \n",
       "\n",
       "   stdevQRS  maxTP  minTP    meanTP   stdevTP  maxPQ  minPQ    meanPQ  \\\n",
       "0  0.013715  1.004      0  0.491455  0.158231  0.148      0  0.071212   \n",
       "\n",
       "    stdevPQ  label_encode  \n",
       "0  0.021271           NaN  "
      ]
     },
     "execution_count": 36,
     "metadata": {},
     "output_type": "execute_result"
    }
   ],
   "source": [
    "df_test"
   ]
  },
  {
   "cell_type": "code",
   "execution_count": 37,
   "metadata": {},
   "outputs": [],
   "source": [
    "df_inference = df_test.drop(columns=['label','label_encode'])"
   ]
  },
  {
   "cell_type": "code",
   "execution_count": 38,
   "metadata": {},
   "outputs": [
    {
     "name": "stdout",
     "output_type": "stream",
     "text": [
      "normal\n"
     ]
    },
    {
     "name": "stderr",
     "output_type": "stream",
     "text": [
      "c:\\Users\\ASUS\\AppData\\Local\\Programs\\Python\\Python310\\lib\\site-packages\\sklearn\\base.py:409: UserWarning: X does not have valid feature names, but RandomForestClassifier was fitted with feature names\n",
      "  warnings.warn(\n"
     ]
    }
   ],
   "source": [
    "prediksi = loaded_model.predict(df_inference.values)\n",
    "if prediksi[0] == 0:\n",
    "    print('normal')\n",
    "else:\n",
    "    print('AF')"
   ]
  },
  {
   "cell_type": "code",
   "execution_count": null,
   "metadata": {},
   "outputs": [],
   "source": []
  },
  {
   "cell_type": "code",
   "execution_count": null,
   "metadata": {},
   "outputs": [],
   "source": []
  },
  {
   "cell_type": "code",
   "execution_count": null,
   "metadata": {},
   "outputs": [],
   "source": []
  }
 ],
 "metadata": {
  "kernelspec": {
   "display_name": "venv",
   "language": "python",
   "name": "python3"
  },
  "language_info": {
   "codemirror_mode": {
    "name": "ipython",
    "version": 3
   },
   "file_extension": ".py",
   "mimetype": "text/x-python",
   "name": "python",
   "nbconvert_exporter": "python",
   "pygments_lexer": "ipython3",
   "version": "3.10.2"
  },
  "orig_nbformat": 4,
  "vscode": {
   "interpreter": {
    "hash": "1e06b0f5dee5ac66c8e4d04041cf897ce2a4a3f151bdbe43ffcc91d7b313c534"
   }
  }
 },
 "nbformat": 4,
 "nbformat_minor": 2
}
