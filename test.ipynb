{
 "cells": [
  {
   "cell_type": "code",
   "execution_count": 30,
   "metadata": {},
   "outputs": [],
   "source": [
    "from os import listdir\n",
    "from os.path import isfile, join\n",
    "mypath = 'Dataset\\Data NORMAL'\n",
    "onlyfiles = [f for f in listdir(mypath) if isfile(join(mypath, f))]"
   ]
  },
  {
   "cell_type": "code",
   "execution_count": 6,
   "metadata": {},
   "outputs": [
    {
     "data": {
      "text/plain": [
       "'063.csv'"
      ]
     },
     "execution_count": 6,
     "metadata": {},
     "output_type": "execute_result"
    }
   ],
   "source": [
    "import pandas as pd\n",
    "import random \n",
    "\n",
    "files_acak = random.choice(onlyfiles)\n",
    "files_acak"
   ]
  },
  {
   "cell_type": "code",
   "execution_count": 31,
   "metadata": {},
   "outputs": [
    {
     "data": {
      "text/plain": [
       "65"
      ]
     },
     "execution_count": 31,
     "metadata": {},
     "output_type": "execute_result"
    }
   ],
   "source": [
    "191-126"
   ]
  },
  {
   "cell_type": "code",
   "execution_count": 36,
   "metadata": {},
   "outputs": [
    {
     "name": "stdout",
     "output_type": "stream",
     "text": [
      "this happen\n",
      "this happen\n",
      "this happen\n",
      "this happen\n",
      "this happen\n",
      "this happen\n",
      "this happen\n",
      "this happen\n",
      "this happen\n",
      "this happen\n",
      "this happen\n",
      "this happen\n",
      "this happen\n",
      "this happen\n",
      "this happen\n",
      "this happen\n",
      "this happen\n",
      "this happen\n",
      "this happen\n",
      "this happen\n",
      "this happen\n",
      "this happen\n",
      "this happen\n",
      "this happen\n",
      "this happen\n",
      "this happen\n",
      "this happen\n",
      "this happen\n",
      "this happen\n",
      "this happen\n",
      "this happen\n",
      "this happen\n",
      "this happen\n",
      "this happen\n",
      "this happen\n",
      "this happen\n",
      "this happen\n",
      "this happen\n",
      "this happen\n",
      "this happen\n",
      "this happen\n",
      "this happen\n",
      "this happen\n",
      "this happen\n",
      "this happen\n",
      "this happen\n",
      "this happen\n",
      "this happen\n",
      "this happen\n",
      "this happen\n",
      "this happen\n",
      "this happen\n",
      "this happen\n",
      "this happen\n",
      "this happen\n",
      "this happen\n",
      "this happen\n",
      "this happen\n",
      "this happen\n",
      "this happen\n",
      "this happen\n",
      "this happen\n",
      "this happen\n",
      "this happen\n",
      "this happen\n"
     ]
    }
   ],
   "source": [
    "for i in range(191-126):\n",
    "    # print(81 + i)\n",
    "    files_acak = random.choice(onlyfiles)\n",
    "    df = pd.read_csv(f'Dataset/Data NORMAL/{files_acak}')\n",
    "\n",
    "    print('this happen')\n",
    "    df.to_csv(f'Dataset/Data NORMAL/{127+i}.csv', index=False)"
   ]
  },
  {
   "cell_type": "code",
   "execution_count": 35,
   "metadata": {},
   "outputs": [],
   "source": [
    "os.mkdir('Dataset/Normal')\n",
    "for i in onlyfiles:\n",
    "    df = pd.read_csv(f'Dataset/Data NORMAL/{i}')\n",
    "    df = df[['Time','ECG1','ECG2']]\n",
    "    df.to_csv(f'Dataset/Normal/{i}', index = False)"
   ]
  },
  {
   "cell_type": "code",
   "execution_count": 27,
   "metadata": {},
   "outputs": [
    {
     "name": "stdout",
     "output_type": "stream",
     "text": [
      "00.csv\n",
      "01.csv\n",
      "02.csv\n",
      "03.csv\n",
      "04.csv\n",
      "05.csv\n",
      "06.csv\n",
      "07.csv\n",
      "08.csv\n",
      "09.csv\n"
     ]
    }
   ],
   "source": [
    "import os \n",
    "\n",
    "\n",
    "for i in onlyfiles:\n",
    "    if len(i.split('.')[0]) == 2:\n",
    "        print(i)\n",
    "        os.remove(f'Dataset/Data NORMAL/{i}')\n",
    "\n",
    "# os.remove()\n"
   ]
  }
 ],
 "metadata": {
  "kernelspec": {
   "display_name": "venv",
   "language": "python",
   "name": "python3"
  },
  "language_info": {
   "codemirror_mode": {
    "name": "ipython",
    "version": 3
   },
   "file_extension": ".py",
   "mimetype": "text/x-python",
   "name": "python",
   "nbconvert_exporter": "python",
   "pygments_lexer": "ipython3",
   "version": "3.10.2"
  },
  "orig_nbformat": 4,
  "vscode": {
   "interpreter": {
    "hash": "1e06b0f5dee5ac66c8e4d04041cf897ce2a4a3f151bdbe43ffcc91d7b313c534"
   }
  }
 },
 "nbformat": 4,
 "nbformat_minor": 2
}
